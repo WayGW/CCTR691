{
 "cells": [
  {
   "cell_type": "markdown",
   "id": "8e321635-a0c2-404f-94e6-b6b9b0615652",
   "metadata": {},
   "source": [
    "# CCTR691 - NLP Lab\n",
    "\n",
    "For this lab you will complete this notebook by running all code, generating all images, and answering the questions.  Then add this file to your GitHub repository and push to github.  Submit the URL to this file through CANVAS.\n",
    "\n",
    "# Part 1: Import your REDCap survey data\n",
    "\n",
    "In this section we are importing our REDCap survey data into a Pandas Dataframe using the REDCap API functionality and a string manipulation package named StringIO.  If not already enabled, you will need to enable the API functionality through the User Rights section of your REDCap project.\n",
    "\n",
    "The first step for our lab activities is to import the libraries we will use during the session. In order to use any Python library, even if installed, you will need to load it every time you start a new Python session. Loading libraries is achieved by the command “import” followed by the library name."
   ]
  },
  {
   "cell_type": "code",
   "execution_count": 2,
   "id": "e5128ee2-d8f9-408d-9211-b4d885994741",
   "metadata": {},
   "outputs": [],
   "source": [
    "## Import python libraries\n",
    "import requests\n",
    "import pandas as pd\n",
    "from io import StringIO\n",
    "import re\n",
    "import spacy\n",
    "from wordcloud import WordCloud, STOPWORDS\n",
    "import matplotlib.pyplot as plt\n",
    "import openpyxl\n",
    "from spacy import displacy"
   ]
  },
  {
   "cell_type": "markdown",
   "id": "c4b82d03-f6a1-4cec-9945-cd214d11bd20",
   "metadata": {},
   "source": [
    "After loading spaCy, we will need to load the processing pipeline, which is the part of spaCy trained on written web text that includes tools used to process your text. For English, “en_core_web_sm” is the smallest model available, with other versions trained on more data but will take bigger space. https://spacy.io/models/en. SpaCy states in its documentation that “nlp” is the most commonly used name for the loaded pipeline function. We load the pipeline using the command “spacy.load()” with the name of the model inside the brackets. You can make sure that the proper model was loaded through running the loaded pipeline."
   ]
  },
  {
   "cell_type": "code",
   "execution_count": 3,
   "id": "038fc0e6-e88b-47c1-b00f-457ab44a5573",
   "metadata": {},
   "outputs": [
    {
     "data": {
      "text/plain": [
       "<spacy.lang.en.English at 0x7f77fbd48a90>"
      ]
     },
     "execution_count": 3,
     "metadata": {},
     "output_type": "execute_result"
    }
   ],
   "source": [
    "nlp = spacy.load(\"en_core_web_sm\")\n",
    "nlp"
   ]
  },
  {
   "cell_type": "markdown",
   "id": "0ace8756-eded-4d73-94dc-7946c2de3fce",
   "metadata": {},
   "source": [
    "### Create API Call and Retrieve Data\n",
    "\n",
    "In the \"token\" entry, replace the \"ABA571C5EC78E3FB8D4008DABA5DB182\" with your custom token that you will find from the API section of your REDCap project."
   ]
  },
  {
   "cell_type": "code",
   "execution_count": null,
   "id": "83c0162e-0a51-48af-beb3-a0901df06da8",
   "metadata": {},
   "outputs": [],
   "source": [
    "## Set up REDCap Connection\n",
    "\n",
    "data = {\n",
    "    'token': '78ECA567587AC9F14495CA83937B648B',\n",
    "    'content': 'record',\n",
    "    'action': 'export',\n",
    "    'format': 'csv',\n",
    "    'type': 'flat',\n",
    "    'csvDelimiter': '',\n",
    "    'rawOrLabel': 'raw',\n",
    "    'rawOrLabelHeaders': 'raw',\n",
    "    'exportCheckboxLabel': 'false',\n",
    "    'exportSurveyFields': 'false',\n",
    "    'exportDataAccessGroups': 'false',\n",
    "    'returnFormat': 'json'\n",
    "}\n",
    "\n",
    "api_data = requests.post('https://redcap.vcu.edu/api/',data=data)\n",
    "## View the returned text data\n",
    "api_data.text"
   ]
  },
  {
   "cell_type": "markdown",
   "id": "8c9b9c54-865c-4d60-82c3-7a27a7d4e613",
   "metadata": {},
   "source": [
    "### Format the data as a Pandas dataframe and view our data\n",
    "\n",
    "Next, we will use the \"pandas\" package to read the file through assigning the file path to an object and then using the command \"pd.read_csv\" from the libraries \"pandas\". The following code uses StringIO package to stream the csv delimiited text content of thhe API call into the pandas read_csv function, which converts it to a dataframe.\n"
   ]
  },
  {
   "cell_type": "code",
   "execution_count": null,
   "id": "d9108f94-dcf1-4149-896c-058a9fac3231",
   "metadata": {},
   "outputs": [],
   "source": [
    "df = pd.read_csv(StringIO(api_data.text), sep=\",\")\n",
    "type(df)  ## this command tells you the data type of the df variable. You can put any variable into thhis command to get its data type returned."
   ]
  },
  {
   "cell_type": "code",
   "execution_count": null,
   "id": "9e95e9a1-a24d-4383-a6ea-0026f694af01",
   "metadata": {},
   "outputs": [],
   "source": [
    "## Visualize the dataframe content\n",
    "\n",
    "df"
   ]
  },
  {
   "cell_type": "markdown",
   "id": "bb783dcb-ee5e-44e1-af03-e590d1e7ac28",
   "metadata": {},
   "source": [
    "### Look at dataframe properties\n",
    "\n",
    "There are a lot of commands to use with a pandas DataFrame by adding them to the DataFrame object (which is df in our case); an example of this is using the command \".head()\" to make sure that the data was properly loaded by printing the first 5 rows in the data frame. In the following cells, we will use some commands to look at the DataFrame. We can use the command \".info()\" to see a summary of the number of rows, columns, and the non-null values per column, as well as the data type in each column. The command \".describe()\" summarizes the numerical columns in the data frame. The command \".isnull()\" checks for missing values and adding the command \".sum()\" to it provides the number of missing values in each column. Finally, \"df.shape\" tells us how many rows and columns our dataframe has."
   ]
  },
  {
   "cell_type": "code",
   "execution_count": null,
   "id": "e9de25ac-70fc-42fe-a103-f1a860a404bb",
   "metadata": {},
   "outputs": [],
   "source": [
    "#Display the first few rows of the DataFrame to ensure it's loaded correctly\n",
    "df.head()"
   ]
  },
  {
   "cell_type": "code",
   "execution_count": null,
   "id": "bd8dd749-43e8-4559-97b3-320f346608bb",
   "metadata": {},
   "outputs": [],
   "source": [
    "# Display the last few rows\n",
    "df.tail()"
   ]
  },
  {
   "cell_type": "code",
   "execution_count": null,
   "id": "f4917689-4eac-4d14-8385-b26464a1f645",
   "metadata": {},
   "outputs": [],
   "source": [
    "# Get an overview of the DataFrame\n",
    "df.info()"
   ]
  },
  {
   "cell_type": "code",
   "execution_count": null,
   "id": "555a86f2-b672-4ad7-a285-20058e0ed89e",
   "metadata": {},
   "outputs": [],
   "source": [
    "# Look at thhe shape (i.e. # rows and columns) oof the data\n",
    "df.shape"
   ]
  },
  {
   "cell_type": "code",
   "execution_count": null,
   "id": "bbbd4e03-4c48-41f5-9c60-3be1439484f3",
   "metadata": {},
   "outputs": [],
   "source": [
    "# Summary statistics of numerical columns\n",
    "df.describe()"
   ]
  },
  {
   "cell_type": "code",
   "execution_count": null,
   "id": "8b7f80a0-18dc-4395-96ee-5c4645084289",
   "metadata": {},
   "outputs": [],
   "source": [
    "# Check for missing values\n",
    "df.isnull()"
   ]
  },
  {
   "cell_type": "code",
   "execution_count": null,
   "id": "02806662-4e92-43b1-a53b-3588f251a02a",
   "metadata": {},
   "outputs": [],
   "source": [
    "# Check for missing values\n",
    "df.isnull().sum()"
   ]
  },
  {
   "cell_type": "markdown",
   "id": "c2cf7992-59c9-4d71-8e1b-9a4e88e38503",
   "metadata": {},
   "source": [
    "### Modifying our DataFrame\n",
    "\n",
    "With Pandas we can modify our dataframe in many ways such as subsetting columns and renaming them.\n",
    "\n",
    "To subset columns we use the [['colname1','colname2',...,'colnameN']] notation and assiign the new subsetted dataframe to a new variable named df_subset. Lets focus on the record_id and positive_feedback columns."
   ]
  },
  {
   "cell_type": "code",
   "execution_count": null,
   "id": "5820f554-2421-4711-ba37-53e098dbcf87",
   "metadata": {},
   "outputs": [],
   "source": [
    "# Subset the DataFrame to keep only specific columns\n",
    "df_subset = df[['record_id','positive_aspect']]\n",
    "df_subset.head()"
   ]
  },
  {
   "cell_type": "markdown",
   "id": "42a62d91-7499-4305-ab45-aa50d51524b1",
   "metadata": {},
   "source": [
    "We can rename columns in the DataFrame using the command \".rename()\". For TopEx, we need 2 columns, DocID and Text. As our DataFrame has a unique ID for each row (i.e., published_date), we can rename this column to DocID. We use the option \"inplace=True\" to make the changes to the DataFrame without needing to assign it manually, as opposed to \"inplace=False\" which is the default value. If we chose to put \"inplace=False\", we will see a copy of the DataFrame with the changes done using the command we ran but without saving these changes, unless we assign the command to the DataFrame object (i.e., df = df.rename(inplace=False)). After renaming the columns, we can print the current column names of df using the command \".columns()\"."
   ]
  },
  {
   "cell_type": "code",
   "execution_count": null,
   "id": "28b83f6e-a3ef-4b4b-9eab-b4a496d95bcc",
   "metadata": {},
   "outputs": [],
   "source": [
    "# Rename columns\n",
    "df_subset.rename(columns={'record_id': 'DocID'}, inplace=True)\n",
    "\n",
    "# Display updated column names\n",
    "df_subset.columns"
   ]
  },
  {
   "cell_type": "markdown",
   "id": "b2da1afe-931d-4d1b-8254-ca064333d764",
   "metadata": {},
   "source": [
    "# Part 2: Cleaning our text data\n",
    "\n",
    "Now that we have extracted the text we need, lets build a function to clean it.  Clean-up includes removing extra spaces (using the command \".strip()\"), turning all uppercase letters to lowercase (using \".lower()\"), lemmatization (reducing different forms of a word to a single base form), and removing non-standard characters. We will create a function \"clean_text()\" to do all this.\n",
    "\n",
    "Our function defininition is in the first cell below followed by our function call in the second cell.  The \".apply\" operation tells it to apply the clean_text() function to each entry in the Text column of thhe df_subset dataframe.\n",
    "\n",
    " "
   ]
  },
  {
   "cell_type": "code",
   "execution_count": null,
   "id": "f88aed98-584a-430a-bea9-f03576303e8f",
   "metadata": {},
   "outputs": [],
   "source": [
    "# Create a cleaning function including stopwords\n",
    "nlp = spacy.load(\"en_core_web_sm\")\n",
    "\n",
    "def clean_text(text):\n",
    "    # Remove non-ASCII characters (keep only standard English characters)\n",
    "    text_ascii = text.encode('ascii', 'ignore').decode('ascii')\n",
    "    # Remove extra spaces and lowercase\n",
    "    text_cleaned = text_ascii.strip().lower()\n",
    "    # Remove any remaining non-alphanumeric characters\n",
    "    text_cleaned = re.sub(r'[^A-Za-z0-9\\s.,!?\\'\\\"-]', '', text_cleaned)\n",
    "    # Process the cleaned text through spaCy for lemmatization and stopword removal\n",
    "    doc = nlp(text_cleaned)\n",
    "    # Return the lemmatized text\n",
    "    return \" \".join([token.lemma_ for token in doc])"
   ]
  },
  {
   "cell_type": "code",
   "execution_count": null,
   "id": "5c0935a9-c8d3-402d-b415-befe8087ef80",
   "metadata": {},
   "outputs": [],
   "source": [
    "# Apply and view the cleaned text column\n",
    "df_subset['cleaned_text'] = df_subset['positive_aspect'].apply(clean_text)\n",
    "df_subset"
   ]
  },
  {
   "cell_type": "markdown",
   "id": "7c8b2363-1e07-46e0-963f-84aa7e40295e",
   "metadata": {},
   "source": [
    "# Part 3: WordCloud Visualization\n",
    "\n",
    "Next, we can generate a word cloud from the remaining data to visualize frequency of major themes using the function \"WordCloud()\". We can generate one without stopwords and and one with them. We can check the list of stopwords included by default in spaCy using \"print(nlp.Defaults.stop_words)\".\n",
    "WordCloud removes stopwords by default, therefore to disable this feature we need to add \"stopwords=set()\" as a parameter."
   ]
  },
  {
   "cell_type": "code",
   "execution_count": null,
   "id": "aa3856cd-3638-44df-ba50-2612432bea02",
   "metadata": {},
   "outputs": [],
   "source": [
    "# Create using all words, so set stopwords to the Null set\n",
    "# Combine all cleaned text into one string for word cloud generation\n",
    "all_text = \" \".join(df_subset['cleaned_text'])\n",
    "\n",
    "# Create a word cloud with all words\n",
    "wordcloud = WordCloud(width=800, height=400, background_color='white',stopwords=set()).generate(all_text)\n",
    "\n",
    "# Display the word cloud\n",
    "plt.figure(figsize=(10, 5))\n",
    "plt.imshow(wordcloud, interpolation='bilinear')\n",
    "plt.axis(\"off\")\n",
    "plt.show()"
   ]
  },
  {
   "cell_type": "markdown",
   "id": "aa08ea5a-dafd-4bd6-a9f4-370786590abc",
   "metadata": {},
   "source": [
    "### Removal of Stop Words\n",
    "\n",
    "Stopwords are thohse that are not very helpful to our task.  In the word cloud above, words like \"and\" and \"the\" are not helpful.  Spacy comes with it's oown set of default stop words.  LLets re-process the data to create a column that does not have any stop words and then regenerate the word cloud."
   ]
  },
  {
   "cell_type": "code",
   "execution_count": null,
   "id": "58788ea3-ac8f-4272-94c2-e6428bcc8960",
   "metadata": {},
   "outputs": [],
   "source": [
    "# Create a cleaning function removing stopwords\n",
    "def clean_text_no_stopwords(text):\n",
    "    # Remove non-ASCII characters (keep only standard English characters)\n",
    "    text_ascii = text.encode('ascii', 'ignore').decode('ascii')\n",
    "    # Remove extra spaces and lowercase\n",
    "    text_cleaned = text_ascii.strip().lower()\n",
    "    # Remove any remaining non-alphanumeric characters\n",
    "    text_cleaned = re.sub(r'[^A-Za-z0-9\\s.,!?\\'\\\"-]', '', text_cleaned)\n",
    "    # Process the cleaned text through spaCy for lemmatization and stopword removal\n",
    "    doc = nlp(text_cleaned)\n",
    "    # Return the lemmatized text without stopwords or punctuation\n",
    "    return \" \".join([token.lemma_ for token in doc if not token.is_stop])# and not token.is_punct])\n",
    "\n",
    "# Apply and view the cleaned text column\n",
    "df_subset['cleaned_text_no_stopwords'] = df_subset['positive_aspect'].apply(clean_text_no_stopwords)"
   ]
  },
  {
   "cell_type": "code",
   "execution_count": null,
   "id": "35c0625c-a33d-4586-9abf-2227a2083b65",
   "metadata": {},
   "outputs": [],
   "source": [
    "# Create using default SpaCy stopwords\n",
    "all_text_no_stopwords = \" \".join(df_subset['cleaned_text_no_stopwords'])\n",
    "\n",
    "# Create a word cloud with stopwords removed\n",
    "wordcloud_no_stopwords = WordCloud(width=800, height=400, background_color='white', stopwords=set()).generate(all_text_no_stopwords)\n",
    "\n",
    "# Display the word cloud without stopwords\n",
    "plt.figure(figsize=(10, 5))\n",
    "plt.imshow(wordcloud_no_stopwords, interpolation='bilinear')\n",
    "plt.axis(\"off\")\n",
    "plt.show()"
   ]
  },
  {
   "cell_type": "markdown",
   "id": "22142b85-4cd9-4945-a18b-a9648e849173",
   "metadata": {},
   "source": [
    "### Custom Stopwords\n",
    "\n",
    "The words \"class\" and \"lecture\" are not very helpful because these are class reviews, so we might want to add this as a stop word."
   ]
  },
  {
   "cell_type": "code",
   "execution_count": null,
   "id": "8f3adac9-98a1-4f87-8543-46531f56f62a",
   "metadata": {},
   "outputs": [],
   "source": [
    "# Create using default SpaCy stopwords\n",
    "all_text_no_stopwords = \" \".join(df_subset['cleaned_text_no_stopwords'])\n",
    "\n",
    "STOP_WORDS = ['class', 'lecture']\n",
    "\n",
    "# Create a word cloud with stopwords removed\n",
    "wordcloud_no_stopwords = WordCloud(width=800, height=400, background_color='white', stopwords=STOP_WORDS).generate(all_text_no_stopwords)\n",
    "\n",
    "# Display the word cloud without stopwords\n",
    "plt.figure(figsize=(10, 5))\n",
    "plt.imshow(wordcloud_no_stopwords, interpolation='bilinear')\n",
    "plt.axis(\"off\")\n",
    "plt.show()"
   ]
  },
  {
   "cell_type": "markdown",
   "id": "60058224-53f2-444e-91e9-96747804bfb0",
   "metadata": {},
   "source": [
    "# Part 5: On YOUR OWN\n",
    "\n",
    "Can you copy and paste the blocks of code above to create a word cloud of the negative feedback?  You will need to 1) subset the df dataframe to use the negative_feedback column instead of the positive, 2) apply the data cleaning and stopword removal to the new subset dataframe, and 3) generate a word cloud image."
   ]
  },
  {
   "cell_type": "code",
   "execution_count": null,
   "id": "c5896046-3735-426e-b89d-33b7bc8ede7e",
   "metadata": {},
   "outputs": [],
   "source": [
    "## copy, paste and modify code to create a new subset df named \"df_subset_neg\" that contains the negative_feedback column instead of the positive.\n",
    "df_subset_neg = df[['record_id','negative_aspect']]\n",
    "# Rename columns\n",
    "df_subset_neg.rename(columns={'record_id': 'DocID'}, inplace=True)\n",
    "# Drop NA values\n",
    "df_subset_neg.dropna(inplace=True)\n",
    "# Display updated column names\n",
    "df_subset_neg.head()\n",
    "df_subset_neg.columns"
   ]
  },
  {
   "cell_type": "code",
   "execution_count": null,
   "id": "1450ec8c-624a-42da-a711-83c9f86b51dd",
   "metadata": {},
   "outputs": [],
   "source": [
    "## copy, paste, and modify the 2 commands that will add thhe clean_text and clean_text_no_stopwords columns to your dataframe.\n",
    "## Note you do not need to copy the whole functions as they will still be loaded in memory.  \n",
    "## Just copy the 2 lines of code (hint: they are located iin different code cells.)\n",
    "df_subset_neg['cleaned_text'] = df_subset_neg['negative_aspect'].apply(clean_text)\n",
    "df_subset_neg['cleaned_text_no_stopwords'] = df_subset_neg['negative_aspect'].apply(clean_text_no_stopwords)"
   ]
  },
  {
   "cell_type": "code",
   "execution_count": null,
   "id": "4a651156-a545-4c4a-9d93-7b0e5f1a6433",
   "metadata": {},
   "outputs": [],
   "source": [
    "## copy, paste and modify the code to generate the word cloud that does not contain stopwords.  \n",
    "## Are there any stopwords you need to add after viewing it?  Edit the code to make that happen.\n",
    "# Create using default SpaCy stopwords\n",
    "all_text_no_stopwords = \" \".join(df_subset_neg['cleaned_text_no_stopwords'])\n",
    "\n",
    "STOP_WORDS = ['class', 'lecture','like']\n",
    "\n",
    "# Create a word cloud with stopwords removed\n",
    "wordcloud_no_stopwords = WordCloud(width=800, height=400, background_color='white', stopwords=STOP_WORDS).generate(all_text_no_stopwords)\n",
    "\n",
    "# Display the word cloud without stopwords\n",
    "plt.figure(figsize=(10, 5))\n",
    "plt.imshow(wordcloud_no_stopwords, interpolation='bilinear')\n",
    "plt.axis(\"off\")\n",
    "plt.show()\n"
   ]
  },
  {
   "cell_type": "markdown",
   "id": "12642ed7-92a1-405a-8805-c37a9e1ab155",
   "metadata": {},
   "source": [
    "# Part 6: SpaCy\n",
    "\n",
    "Lets take a closer look at the SpaCy NLP command: doc = nlp(text_cleaned)"
   ]
  },
  {
   "cell_type": "code",
   "execution_count": null,
   "id": "82f5c3a4-2add-4d01-a585-281c74e721dc",
   "metadata": {},
   "outputs": [],
   "source": [
    "## Create a Doc object to process the first positive feedback response in your dataset:\n",
    "doc = nlp(df_subset['positive_aspect'][0])\n",
    "doc"
   ]
  },
  {
   "cell_type": "markdown",
   "id": "2938e940-a6da-466c-82df-46077e09d74b",
   "metadata": {},
   "source": [
    "### Get all annotations\n",
    "When you just print out the doc as a string it prints your original text, but there is a lot of information packed in here!\n",
    "The following functions use For loops to loop through each token in your input and extract out all the annotated data into a pandas dataframe."
   ]
  },
  {
   "cell_type": "code",
   "execution_count": null,
   "id": "8ca124fe-e3e1-4864-8531-7dd7c2ce6165",
   "metadata": {},
   "outputs": [],
   "source": [
    "## Functions to extract all NLP annotations.\n",
    "\n",
    "def extract_tokens_plus_meta(doc:spacy.tokens.doc.Doc):\n",
    "    \"\"\"Extract tokens and metadata from individual spaCy doc.\"\"\"\n",
    "    return [\n",
    "        (i.text, i.i, i.lemma_, i.ent_type_, i.tag_, \n",
    "         i.dep_, i.pos_, i.is_stop, i.is_alpha, \n",
    "         i.is_digit, i.is_punct) for i in doc\n",
    "    ]\n",
    "\n",
    "def tidy_tokens(docs):\n",
    "    \"\"\"Extract tokens and metadata from list of spaCy docs.\"\"\"\n",
    "    \n",
    "    cols = [\n",
    "        \"doc_id\", \"token\", \"token_order\", \"lemma\", \n",
    "        \"ent_type\", \"tag\", \"dep\", \"pos\", \"is_stop\", \n",
    "        \"is_alpha\", \"is_digit\", \"is_punct\"\n",
    "    ]\n",
    "    \n",
    "    meta_df = []\n",
    "    for ix, doc in enumerate(docs):\n",
    "        \n",
    "        if len(doc) > 0:\n",
    "            meta = extract_tokens_plus_meta(doc)\n",
    "            meta = pd.DataFrame(meta)\n",
    "            meta.columns = cols[1:]\n",
    "            #meta = meta.assign(doc_id = doc._.note_id).loc[:, cols]\n",
    "            meta_df.append(meta)\n",
    "        #else:\n",
    "            #print(\"Excluding empty doc: \" + str(doc._.note_id))\n",
    "            #print(doc)\n",
    "        \n",
    "    return pd.concat(meta_df)  \n"
   ]
  },
  {
   "cell_type": "code",
   "execution_count": null,
   "id": "e6f47ee8-bdab-452c-ba46-aacab1186f35",
   "metadata": {},
   "outputs": [],
   "source": [
    "tidy_doc = tidy_tokens([doc])\n",
    "tidy_doc"
   ]
  },
  {
   "cell_type": "markdown",
   "id": "ea26af24-8143-4969-9df3-35fe5f2a3769",
   "metadata": {},
   "source": [
    "### Get Lemma version your Doc\n",
    "\n",
    "You can retireve the lemma version by using \".lemma_\" with subsetting.  The \":\" character mean \"all tokens\", or when used with numbers can mean 1 through 5 [1:5], 5 till the end [5:], or start to 5 [:5].  Try each of these out in the code block below."
   ]
  },
  {
   "cell_type": "code",
   "execution_count": null,
   "id": "d4b8e4ab-fa70-4607-b7ed-feddc100e3a9",
   "metadata": {},
   "outputs": [],
   "source": [
    "## Get the lemma version of the sentence or parts of it.\n",
    "doc[:].lemma_"
   ]
  },
  {
   "cell_type": "markdown",
   "id": "4c389ced-f06b-487f-a4f4-7ceb978013c9",
   "metadata": {},
   "source": [
    "### Other information needs to be looped over.\n",
    "The next block of code is using an in-line for loop to extract out the non-stopwords and concatenate them back into a sentence with the \"join\" function."
   ]
  },
  {
   "cell_type": "code",
   "execution_count": null,
   "id": "001a373a-26ec-489d-8a64-e5b028acc142",
   "metadata": {},
   "outputs": [],
   "source": [
    "\" \".join([token.lemma_ for token in doc if not token.is_stop])"
   ]
  },
  {
   "cell_type": "code",
   "execution_count": null,
   "id": "24022dcb-16b0-4cb5-9c0d-077f7948723d",
   "metadata": {},
   "outputs": [],
   "source": [
    "## now do the opposite by removing the word \"not\" \n",
    "\" \".join([token.lemma_ for token in doc if token.is_stop])"
   ]
  },
  {
   "attachments": {
    "df148ca6-6a29-4d72-a178-f3959fe9666f.png": {
     "image/png": "[encoded data removed]"
    }
   },
   "cell_type": "markdown",
   "id": "04043ef3-470a-4738-8639-ab97680d4151",
   "metadata": {},
   "source": [
    "## Visualization\n",
    "\n",
    "spaCy also has was to visualize the annotations.  Let visualize our feedback.  As we don't have any annotated entities in our data, we will visualize the dependencies.  However, if we did have entities it would look like the following: \n",
    "\n",
    "\n",
    "![image.png](attachment:df148ca6-6a29-4d72-a178-f3959fe9666f.png)"
   ]
  },
  {
   "cell_type": "code",
   "execution_count": null,
   "id": "cba5c997-62ce-4031-98a7-044f1c203466",
   "metadata": {},
   "outputs": [],
   "source": [
    "displacy.serve(doc, style=\"dep\")"
   ]
  },
  {
   "cell_type": "markdown",
   "id": "9693ba62-dda2-4990-9e2a-83892de32b12",
   "metadata": {},
   "source": [
    "# Part 7: Import ALL feedback and run the above in bulk\n",
    "\n",
    "Most of this section is streamlined to import the merged dataset I have prepared for you and running a subset of the same cleaning routines to prepare the data for TopEx analysis.  NOTE: We do not remove stopwords or punctuation because TopEx does that for us, and we do not need to lower case either.  We DO remove all non-ascii charaters and filter out odd punctuation. For inputing a dataset to Topex, any columns that have missing values should be removed. This can be done using the command \".dropna()\" as shown below."
   ]
  },
  {
   "cell_type": "code",
   "execution_count": null,
   "id": "6d63f463-3329-4c6b-bf9f-a3cf9e1fd9ce",
   "metadata": {},
   "outputs": [],
   "source": [
    "## import data file\n",
    "# Import the DataFrame from the Excel file\n",
    "file_path = '/lustre/home/cctr691/redcap_feedback_all_responses_Fall2024.xlsx'  \n",
    "df_redcap = pd.read_excel(file_path)\n",
    "\n",
    "# Display the first few rows of the exported DataFrame\n",
    "df_redcap.head()"
   ]
  },
  {
   "cell_type": "code",
   "execution_count": null,
   "id": "c511455a-c383-4cff-a0a8-dd5787a93afc",
   "metadata": {},
   "outputs": [],
   "source": [
    "# Subset the DataFrame to keep only the positive feedback columns\n",
    "df_topex = df_redcap[['doc_id','positive_aspect']]\n",
    "# We have NaN values this time, so lets remove them\n",
    "df_topex.dropna(inplace=True)\n",
    "df_topex.head()"
   ]
  },
  {
   "cell_type": "code",
   "execution_count": null,
   "id": "6057cda4-3f5f-4fc3-963c-28e978ec196d",
   "metadata": {},
   "outputs": [],
   "source": [
    "# Create a cleaning function including stopwords\n",
    "def clean_minimal(text):\n",
    "    # Remove non-ASCII characters (keep only standard English characters)\n",
    "    text_ascii = text.encode('ascii', 'ignore').decode('ascii')\n",
    "    # Remove extra spaces and lowercase\n",
    "    text_cleaned = text_ascii.strip()\n",
    "    # Remove any remaining non-alphanumeric characters\n",
    "    text_cleaned = re.sub(r'[^A-Za-z0-9\\s.,!?\\'\\\"-]', '', text_cleaned)\n",
    "    \n",
    "    # Return the cleaned text\n",
    "    return text_cleaned"
   ]
  },
  {
   "cell_type": "code",
   "execution_count": null,
   "id": "30b68828-719b-4ee8-a1c4-556da9926e40",
   "metadata": {},
   "outputs": [],
   "source": [
    "# Apply and view the cleaned text column\n",
    "df_topex['Text'] = df_topex['positive_aspect'].apply(clean_minimal)\n",
    "df_topex"
   ]
  },
  {
   "cell_type": "markdown",
   "id": "f5f25e97-4901-46e0-98df-c10e8de4e121",
   "metadata": {},
   "source": [
    "Save only the doc_id and Text columns to an Excel file for TopEx."
   ]
  },
  {
   "cell_type": "code",
   "execution_count": null,
   "id": "ea75f143-58da-464b-8e7a-cf6f921bb121",
   "metadata": {},
   "outputs": [],
   "source": [
    "# Save the data to a text file\n",
    "df_topex[['doc_id','Text']].to_excel('top_ex_ready_data.xlsx', index=False)\n"
   ]
  },
  {
   "cell_type": "markdown",
   "id": "833a1ef2-b93d-44c5-85f7-b3725bb50f34",
   "metadata": {},
   "source": [
    "# Part 8: TopEx Analysis\n",
    "\n",
    "- Download the file you just created on Athena to your desktop.\n",
    "\n",
    "- Go to [http://topex.cctr.vcu.edu/](http://topex.cctr.vcu.edu/)\n",
    "\n",
    "- Using the hamburger menu on the left, click on the \"From Excel File\" option and upload this Excel file to the TopEx platform.\n",
    "\n",
    "- Click \"Run TopEx\" button and see what you get without any parameter modifications.\n",
    "\n",
    "- Answer the questions below..."
   ]
  },
  {
   "cell_type": "markdown",
   "id": "1d43fb98-d0d5-42f1-853f-bc59fef0c22e",
   "metadata": {},
   "source": [
    "## Question 1: \n",
    "What are your observations of the default analysis?  Does it look useful?\n",
    "\n",
    "Answer: It does not appear to be very useful at the initial output. Initial clustering does not appear very strong and the cluster topics appear to be quite varied within each cluster."
   ]
  },
  {
   "attachments": {
    "b2d0dea6-87ee-4946-a991-6fa57e172604.png": {
     "image/png": "[encoded data removed]"
    }
   },
   "cell_type": "markdown",
   "id": "cd39ba73-7eef-426f-8b07-992e8eb0ee8b",
   "metadata": {},
   "source": [
    "## Question 2: \n",
    "Set the clustering method to Kmeans with Euclidean distance. Then play with the number of cluster, vectorization method, window size and visualization parameters.  Find a set that looks good to you and gives you some information.  Type those settings below and copy the scatter plot image and paste it below.  Also describe what type of cluster topics you found. For the image, you can take a screen shot and just paste it in from the clipboard.\n",
    "\n",
    "Optimal Parameters: Number of clusters 10, window size 6, dimensions 30, vectorization: UMAP, visualilization: umap, euclidean, 5\n",
    "\n",
    "Cluster Topic Summary:  Changes based on the cluster, bur for cluster 0: learn, helpful, think, lecture, way, repository, piece, line, command, different\n",
    "\n",
    "Scatter Plot Image: ![image.png](attachment:b2d0dea6-87ee-4946-a991-6fa57e172604.png)"
   ]
  },
  {
   "attachments": {
    "21170977-3a1b-4d44-88ac-ff9cc2073a7f.png": {
     "image/png": "[encoded data removed]"
    }
   },
   "cell_type": "markdown",
   "id": "90050a0d-8fb4-4940-b21c-d9999f4e57f3",
   "metadata": {},
   "source": [
    "## Question 3: \n",
    "Review the wordcloud plots.  are there any frequent words that are not helpful?  Pick a few and create a custom stopwords file. This is just a text file with one word per line, all lowercase.  Upload this file and rerun your analysis keeping all your optimal parameters.  How did this change your data?\n",
    "\n",
    "Answer: yeah, \"dr\" and \"dr.\" probably do not help. When added it makes the clustering worse when using the same parameters as those parameters were ideal for the original data. This would likely result in better results after finding ideal parameters for this \"new\" data.\n",
    "\n",
    "Scatter Plot Image:![image.png](attachment:21170977-3a1b-4d44-88ac-ff9cc2073a7f.png)"
   ]
  },
  {
   "cell_type": "markdown",
   "id": "c8df0459-ff48-4c57-8f3a-3d9560c83224",
   "metadata": {},
   "source": [
    "# Appendix: Kaggle Dataset Analysis\n",
    "\n",
    "This appendix contains code to analyze a Harvard reviews Kaggle dataset.  This data has more information in it, so you will get a more interesting TopEx analysis.  In addition, these reviews are in multiple languages, so we utilize a new package to detect the language and filter it to only those that are English.\n"
   ]
  },
  {
   "cell_type": "code",
   "execution_count": null,
   "id": "eb3c1d2d-6bb0-4432-903e-1af5bb387cd4",
   "metadata": {},
   "outputs": [],
   "source": [
    "from langdetect import detect\n",
    "import kagglehub"
   ]
  },
  {
   "cell_type": "markdown",
   "id": "e6c51a88-4d7a-4d9e-8a53-4203565e3492",
   "metadata": {},
   "source": [
    "### Importing and Looking at our Data:"
   ]
  },
  {
   "cell_type": "code",
   "execution_count": null,
   "id": "beab8878-d1dd-43f2-a70a-5835f7c1022b",
   "metadata": {},
   "outputs": [],
   "source": [
    "# Download latest version\n",
    "path = kagglehub.dataset_download(\"kanchana1990/harvard-university-ratings-and-reviews\")\n",
    "\n",
    "print(\"Path to dataset files:\", path)"
   ]
  },
  {
   "cell_type": "code",
   "execution_count": null,
   "id": "36b7d377-0da2-4b93-8601-26e63f3062e9",
   "metadata": {},
   "outputs": [],
   "source": [
    "#Load data from a csv file into a pandas DataFrame\n",
    "file_path = path+'/harvard_reviews.csv'  # create the full file path\n",
    "df = pd.read_csv(file_path) # you can instead use the command \"pd.read_excel()\" for .xlsx files\n",
    "\n",
    "#Display the first few rows of the DataFrame to ensure it's loaded correctly\n",
    "df.head()"
   ]
  },
  {
   "cell_type": "code",
   "execution_count": null,
   "id": "1e1d0770-f50b-45b3-b87f-1402fb66a89c",
   "metadata": {},
   "outputs": [],
   "source": [
    "## create a unique index for our data\n",
    "#Create a new column with a unique ID for each row\n",
    "df[\"Doc_ID\"] = 'Doc_' + df.index.astype(str)\n",
    "df.tail()"
   ]
  },
  {
   "cell_type": "markdown",
   "id": "089697f7-5223-401d-a496-48518b273ac4",
   "metadata": {},
   "source": [
    "### Language Detection\n",
    "\n",
    "We can detect any non-English text and remove it from the analysis using the command \"detect\" from the library \"langdetect\"."
   ]
  },
  {
   "cell_type": "code",
   "execution_count": null,
   "id": "3e216981-2c84-4deb-8719-776273fee1ca",
   "metadata": {},
   "outputs": [],
   "source": [
    "# Check for any non-English text and remove it\n",
    "# First add a new column to the dataset with the detected language\n",
    "df['language'] = df['text'].apply(lambda x: detect(x) if pd.notnull(x) else 'unknown')\n",
    "\n",
    "# Identify the distribution of languages and plot them\n",
    "language_counts = df['language'].value_counts()\n",
    "print(\"\\nLanguage Distribution in Text:\\n\", language_counts)\n",
    "\n",
    "# Finally, keep on the data rows that are English\n",
    "df = df[df['language'] == 'en']  # Keep only English rows\n",
    "df"
   ]
  },
  {
   "cell_type": "markdown",
   "id": "2a63e637-d7a2-4e21-8587-3ce2c25a824c",
   "metadata": {},
   "source": [
    "### Clean the text and Word Cloud Viz\n",
    "\n",
    "Next, we can generate a word cloud from the remaining data to visualize frequency of major themes using the function \"WordCloud()\". We can generate one without stopwords and and one with them. We can check the list of stopwords included by default in spaCy using \"print(nlp.Defaults.stop_words)\".\n",
    "WordCloud removes stopwords by default, therefore to disable this feature we need to add \"stopwords=set()\" as a parameter."
   ]
  },
  {
   "cell_type": "code",
   "execution_count": null,
   "id": "9ae16437-54d3-4338-bcb8-50c0314bc61b",
   "metadata": {},
   "outputs": [],
   "source": [
    "# Create a cleaning function including stopwords\n",
    "def clean_text(text):\n",
    "    # Remove non-ASCII characters (keep only standard English characters)\n",
    "    text_ascii = text.encode('ascii', 'ignore').decode('ascii')\n",
    "    # Remove extra spaces and lowercase\n",
    "    text_cleaned = text_ascii.strip().lower()\n",
    "    # Remove any remaining non-alphanumeric characters\n",
    "    text_cleaned = re.sub(r'[^A-Za-z0-9\\s.,!?\\'\\\"-]', '', text_cleaned)\n",
    "    # Process the cleaned text through spaCy for lemmatization and stopword removal\n",
    "    doc = nlp(text_cleaned)\n",
    "    # Return the lemmatized text\n",
    "    return \" \".join([token.lemma_ for token in doc])# if not token.is_punct])\n",
    "\n",
    "# Create a cleaning function removing stopwords\n",
    "def clean_text_no_stopwords(text):\n",
    "    # Remove non-ASCII characters (keep only standard English characters)\n",
    "    text_ascii = text.encode('ascii', 'ignore').decode('ascii')\n",
    "    # Remove extra spaces and lowercase\n",
    "    text_cleaned = text_ascii.strip().lower()\n",
    "    # Remove any remaining non-alphanumeric characters\n",
    "    text_cleaned = re.sub(r'[^A-Za-z0-9\\s.,!?\\'\\\"-]', '', text_cleaned)\n",
    "    # Process the cleaned text through spaCy for lemmatization and stopword removal\n",
    "    doc = nlp(text_cleaned)\n",
    "    # Return the lemmatized text without stopwords or punctuation\n",
    "    return \" \".join([token.lemma_ for token in doc if not token.is_stop])# and not token.is_punct])\n",
    "\n",
    "# Apply and view the cleaned text column\n",
    "df['cleaned_text'] = df['text'].apply(clean_text)\n",
    "df['cleaned_text_no_stopwords'] = df['text'].apply(clean_text_no_stopwords)\n",
    "df[['text', 'cleaned_text','cleaned_text_no_stopwords']].head()"
   ]
  },
  {
   "cell_type": "code",
   "execution_count": null,
   "id": "58fbbb81-922e-4a20-aca9-052b9f50ea09",
   "metadata": {},
   "outputs": [],
   "source": [
    "# Create using all words, so set stopwords to the Null set\n",
    "# Combine all cleaned text into one string for word cloud generation\n",
    "all_text = \" \".join(df['cleaned_text'])\n",
    "\n",
    "# Create a word cloud with all words\n",
    "wordcloud = WordCloud(width=800, height=400, background_color='white',stopwords=set()).generate(all_text)\n",
    "\n",
    "# Display the word cloud\n",
    "plt.figure(figsize=(10, 5))\n",
    "plt.imshow(wordcloud, interpolation='bilinear')\n",
    "plt.axis(\"off\")\n",
    "plt.show()"
   ]
  },
  {
   "cell_type": "code",
   "execution_count": null,
   "id": "c1b34c2f-76d3-4ee4-b034-039f92c75333",
   "metadata": {},
   "outputs": [],
   "source": [
    "# Create using default SpaCy stopwords\n",
    "all_text_no_stopwords = \" \".join(df['cleaned_text_no_stopwords'])\n",
    "\n",
    "# Create a word cloud with stopwords removed\n",
    "wordcloud_no_stopwords = WordCloud(width=800, height=400, background_color='white', stopwords=set()).generate(all_text_no_stopwords)\n",
    "\n",
    "# Display the word cloud without stopwords\n",
    "plt.figure(figsize=(10, 5))\n",
    "plt.imshow(wordcloud_no_stopwords, interpolation='bilinear')\n",
    "plt.axis(\"off\")\n",
    "plt.show()"
   ]
  },
  {
   "cell_type": "code",
   "execution_count": null,
   "id": "d92e11f9-3b1e-4725-bd8c-ab63ac192a7c",
   "metadata": {},
   "outputs": [],
   "source": [
    "# Create using default stop words PLUS custom stop words\n",
    "all_text_no_stopwords = \" \".join(df['cleaned_text_no_stopwords'])\n",
    "\n",
    "STOP_WORDS = ['harvard', 'university', 'campus','tour','student']\n",
    "\n",
    "# Create a word cloud with stopwords removed\n",
    "wordcloud_no_stopwords = WordCloud(width=800, height=400, background_color='white', stopwords=STOP_WORDS).generate(all_text_no_stopwords)\n",
    "\n",
    "# Display the word cloud without stopwords\n",
    "plt.figure(figsize=(10, 5))\n",
    "plt.imshow(wordcloud_no_stopwords, interpolation='bilinear')\n",
    "plt.axis(\"off\")\n",
    "plt.show()"
   ]
  },
  {
   "cell_type": "markdown",
   "id": "f5c11557-4bc0-43be-b721-ec9d6f197434",
   "metadata": {},
   "source": [
    "## Prep Harvard Dataset for TopEx"
   ]
  },
  {
   "cell_type": "code",
   "execution_count": null,
   "id": "fcbd01a0-ff32-4997-9a5f-ac8741570498",
   "metadata": {},
   "outputs": [],
   "source": [
    "# Subset the DataFrame to keep only specific columns and remove NA values\n",
    "df_subset = df[['Doc_ID', 'text']]\n",
    "\n",
    "# Drop NA values\n",
    "df_subset.dropna(inplace=True)\n",
    "\n",
    "# Rename column\n",
    "df_subset.rename(columns={'text': 'Text'}, inplace=True)\n",
    "\n",
    "# Export the DataFrame to an Excel file\n",
    "# Note we are only exporting a subset of the data because TopEx was crashing on the full dataset as the online server is small.\n",
    "df_subset[0:800].to_excel('/lustre/home/alolex/CCTR691/24.10.24_NLPLab/top_ex_ready_data_Harvard.xlsx', index=False)\n"
   ]
  },
  {
   "cell_type": "markdown",
   "id": "43285787-44bf-4760-bba3-41368f2091d4",
   "metadata": {},
   "source": [
    "## TopEx Analysis\n",
    "\n",
    "Like before, go to your Athena drive and download this dataset.  Then import into TopEx and explor as before!"
   ]
  },
  {
   "cell_type": "code",
   "execution_count": null,
   "id": "4bf240cc-2b1f-4c5b-bb4b-a06a3164fb4f",
   "metadata": {},
   "outputs": [],
   "source": []
  },
  {
   "cell_type": "code",
   "execution_count": null,
   "id": "46e3e34e-f57c-443c-8891-691d8bcbb3b3",
   "metadata": {},
   "outputs": [],
   "source": []
  },
  {
   "cell_type": "code",
   "execution_count": null,
   "id": "c488065e-712c-47b3-bdb6-f2f842b7c6ea",
   "metadata": {},
   "outputs": [],
   "source": []
  },
  {
   "cell_type": "markdown",
   "id": "1cd0cc14-6979-4b85-9dee-505b43ab3425",
   "metadata": {},
   "source": [
    "# Appendix\n",
    "\n",
    "The follow code is what I used to create the csv file you just imported"
   ]
  },
  {
   "cell_type": "code",
   "execution_count": null,
   "id": "d73e775e-be77-4a55-a4b9-d7ccb5a6d025",
   "metadata": {},
   "outputs": [],
   "source": [
    "api_keys_auto = {'Panguluri':'30B03AD44291C56E3D07D88B8648E7D2','Way':'1D044BDD3F1F11A87AC84403F351F2F8',\n",
    "            'AbaidooMyles':'2039C03ADF1B1F416AD5ED3E017CBAC1','Naik':'3F1D8C07B623DF87A43C08ABB29E14C9'}\n",
    "\n",
    "api_keys_manual = {'Stadtler':'ABA571C5EC78E3FB8D4008DABA5DB182','Camarena':'BCAD8BD1240AC6097E933DA55FA183AC',\n",
    "            'Abosamak':'DBFCC6C880132E475475FDF0C896F3DF','Gibson':'65416D1024A6EC2FFE39613FBE92A017'}"
   ]
  },
  {
   "cell_type": "code",
   "execution_count": null,
   "id": "7268b792-4689-43d0-b723-1c7549c74da9",
   "metadata": {},
   "outputs": [],
   "source": [
    "main_df = pd.DataFrame()\n",
    "for k,v in api_keys_auto.items():\n",
    "    data = {\n",
    "        'token': v,\n",
    "        'content': 'record',\n",
    "        'action': 'export',\n",
    "        'format': 'csv',\n",
    "        'type': 'flat',\n",
    "        'csvDelimiter': '',\n",
    "        'rawOrLabel': 'raw',\n",
    "        'rawOrLabelHeaders': 'raw',\n",
    "        'exportCheckboxLabel': 'false',\n",
    "        'exportSurveyFields': 'false',\n",
    "        'exportDataAccessGroups': 'false',\n",
    "        'returnFormat': 'json'\n",
    "    }\n",
    "\n",
    "    api_data = requests.post('https://redcap.vcu.edu/api/',data=data)\n",
    "    df = pd.read_csv(StringIO(api_data.text), sep=\",\").iloc[:,[0,7,8]]\n",
    "    df['doc_id'] = k + \"_\" + df.index.astype(str)\n",
    "    main_df = pd.concat([main_df,df])\n",
    "    \n",
    "main_df    "
   ]
  },
  {
   "cell_type": "code",
   "execution_count": null,
   "id": "243aae92-3c5b-4eca-b5ee-7b9692687450",
   "metadata": {},
   "outputs": [],
   "source": [
    "## Set up REDCap Connection\n",
    "api_keys_manual = {'Stadtler':'ABA571C5EC78E3FB8D4008DABA5DB182','Camarena':'BCAD8BD1240AC6097E933DA55FA183AC',\n",
    "            'Abosamak':'DBFCC6C880132E475475FDF0C896F3DF','Gibson':'65416D1024A6EC2FFE39613FBE92A017'}\n",
    "\n"
   ]
  },
  {
   "cell_type": "code",
   "execution_count": null,
   "id": "fe8319e9-f0f2-4de0-bce1-a60872d21670",
   "metadata": {},
   "outputs": [],
   "source": [
    "api_keys_manual['Stadtler']"
   ]
  },
  {
   "cell_type": "code",
   "execution_count": null,
   "id": "a767774f-f0ff-43b8-8073-54988d715f75",
   "metadata": {},
   "outputs": [],
   "source": [
    "## Stadtler\n",
    "data = {\n",
    "        'token': api_keys_manual['Stadtler'],\n",
    "        'content': 'record',\n",
    "        'action': 'export',\n",
    "        'format': 'csv',\n",
    "        'type': 'flat',\n",
    "        'csvDelimiter': '',\n",
    "        'rawOrLabel': 'raw',\n",
    "        'rawOrLabelHeaders': 'raw',\n",
    "        'exportCheckboxLabel': 'false',\n",
    "        'exportSurveyFields': 'false',\n",
    "        'exportDataAccessGroups': 'false',\n",
    "        'returnFormat': 'json'\n",
    "    }\n",
    "\n",
    "api_data = requests.post('https://redcap.vcu.edu/api/',data=data)\n",
    "df = pd.read_csv(StringIO(api_data.text), sep=\",\").iloc[:,[0,15,16]]\n",
    "df.rename(columns={'positive_feedback': 'positive_aspect', 'negative_feedback': 'negative_aspect'}, inplace=True)\n",
    "df['doc_id'] = \"Stadtler_\" + df.index.astype(str)\n",
    "main_df = pd.concat([main_df,df])\n",
    "    "
   ]
  },
  {
   "cell_type": "code",
   "execution_count": null,
   "id": "e7e88c62-ba5d-44aa-b587-39ff47ac45af",
   "metadata": {},
   "outputs": [],
   "source": [
    "## Camarena\n",
    "data = {\n",
    "        'token': api_keys_manual['Camarena'],\n",
    "        'content': 'record',\n",
    "        'action': 'export',\n",
    "        'format': 'csv',\n",
    "        'type': 'flat',\n",
    "        'csvDelimiter': '',\n",
    "        'rawOrLabel': 'raw',\n",
    "        'rawOrLabelHeaders': 'raw',\n",
    "        'exportCheckboxLabel': 'false',\n",
    "        'exportSurveyFields': 'false',\n",
    "        'exportDataAccessGroups': 'false',\n",
    "        'returnFormat': 'json'\n",
    "    }\n",
    "\n",
    "api_data = requests.post('https://redcap.vcu.edu/api/',data=data)\n",
    "df = pd.read_csv(StringIO(api_data.text), sep=\",\").iloc[:,[0,7,8]]\n",
    "\n",
    "df.rename(columns={'escribe_1_or_more_specific_positive_aspect_s_of_this_lecture_that_you_liked_or_were_accessible_to_y': 'positive_aspect', 'describe_1_or_more_specifi': 'negative_aspect'}, inplace=True)\n",
    "df['doc_id'] = \"Camarena_\" + df.index.astype(str)\n",
    "main_df = pd.concat([main_df,df])\n",
    "\n"
   ]
  },
  {
   "cell_type": "code",
   "execution_count": null,
   "id": "26b3c45a-02ae-4169-b533-0f0713a56ecd",
   "metadata": {},
   "outputs": [],
   "source": [
    "## Abosamak\n",
    "data = {\n",
    "        'token': api_keys_manual['Abosamak'],\n",
    "        'content': 'record',\n",
    "        'action': 'export',\n",
    "        'format': 'csv',\n",
    "        'type': 'flat',\n",
    "        'csvDelimiter': '',\n",
    "        'rawOrLabel': 'raw',\n",
    "        'rawOrLabelHeaders': 'raw',\n",
    "        'exportCheckboxLabel': 'false',\n",
    "        'exportSurveyFields': 'false',\n",
    "        'exportDataAccessGroups': 'false',\n",
    "        'returnFormat': 'json'\n",
    "    }\n",
    "\n",
    "api_data = requests.post('https://redcap.vcu.edu/api/',data=data)\n",
    "df = pd.read_csv(StringIO(api_data.text), sep=\",\").iloc[:,[0,7,8]]\n",
    "df.columns\n",
    "df.rename(columns={'positive_txt': 'positive_aspect', 'negative_txt': 'negative_aspect'}, inplace=True)\n",
    "df['doc_id'] = \"Abosamak_\" + df.index.astype(str)\n",
    "main_df = pd.concat([main_df,df])"
   ]
  },
  {
   "cell_type": "code",
   "execution_count": null,
   "id": "8bb1e049-a4e2-4eeb-8f5d-8db6737347eb",
   "metadata": {},
   "outputs": [],
   "source": [
    "## Gibson\n",
    "data = {\n",
    "        'token': api_keys_manual['Gibson'],\n",
    "        'content': 'record',\n",
    "        'action': 'export',\n",
    "        'format': 'csv',\n",
    "        'type': 'flat',\n",
    "        'csvDelimiter': '',\n",
    "        'rawOrLabel': 'raw',\n",
    "        'rawOrLabelHeaders': 'raw',\n",
    "        'exportCheckboxLabel': 'false',\n",
    "        'exportSurveyFields': 'false',\n",
    "        'exportDataAccessGroups': 'false',\n",
    "        'returnFormat': 'json'\n",
    "    }\n",
    "\n",
    "api_data = requests.post('https://redcap.vcu.edu/api/',data=data)\n",
    "df = pd.read_csv(StringIO(api_data.text), sep=\",\").iloc[:,[0,8,9]]\n",
    "df.columns\n",
    "df.rename(columns={'positive_aspects': 'positive_aspect', 'negative_aspects': 'negative_aspect'}, inplace=True)\n",
    "df['doc_id'] = \"Gibson_\" + df.index.astype(str)\n",
    "main_df = pd.concat([main_df,df])"
   ]
  },
  {
   "cell_type": "code",
   "execution_count": null,
   "id": "f135865c-5f98-470a-8431-dd022caf2505",
   "metadata": {},
   "outputs": [],
   "source": [
    "main_df.shape\n"
   ]
  },
  {
   "cell_type": "code",
   "execution_count": null,
   "id": "0ae3c70b-80dd-4a3f-9767-5677a38d6359",
   "metadata": {},
   "outputs": [],
   "source": [
    "# Export the DataFrame to an Excel file\n",
    "main_df.to_excel('/lustre/home/cctr691/redcap_feedback_all_responses_Fall2024.xlsx', index=False)\n"
   ]
  },
  {
   "cell_type": "code",
   "execution_count": null,
   "id": "707e5832-4a0a-4628-a0f8-7a201a42b82b",
   "metadata": {},
   "outputs": [],
   "source": []
  },
  {
   "cell_type": "code",
   "execution_count": null,
   "id": "50be2251-e3dd-48d9-84fe-3592dd8208d8",
   "metadata": {},
   "outputs": [],
   "source": []
  },
  {
   "cell_type": "code",
   "execution_count": null,
   "id": "4776da0f-f90a-45c4-a250-a543f1db9a6c",
   "metadata": {},
   "outputs": [],
   "source": [
    "# Create a cleaning function including stopwords\n",
    "def clean_minimal(text):\n",
    "    # Remove non-ASCII characters (keep only standard English characters)\n",
    "    text_ascii = text.encode('ascii', 'ignore').decode('ascii')\n",
    "    # Remove extra spaces and lowercase\n",
    "    text_cleaned = text_ascii.strip().lower()\n",
    "    # Remove any remaining non-alphanumeric characters\n",
    "    text_cleaned = re.sub(r'[^A-Za-z0-9\\s.,!?\\'\\\"-]', '', text_cleaned)\n",
    "    \n",
    "    # Return the cleaned text\n",
    "    return text_cleaned"
   ]
  }
 ],
 "metadata": {
  "kernelspec": {
   "display_name": "Python 3 (ipykernel)",
   "language": "python",
   "name": "python3"
  },
  "language_info": {
   "codemirror_mode": {
    "name": "ipython",
    "version": 3
   },
   "file_extension": ".py",
   "mimetype": "text/x-python",
   "name": "python",
   "nbconvert_exporter": "python",
   "pygments_lexer": "ipython3",
   "version": "3.11.10"
  }
 },
 "nbformat": 4,
 "nbformat_minor": 5
}
