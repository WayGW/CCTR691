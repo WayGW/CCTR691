{
 "cells": [
  {
   "cell_type": "markdown",
   "id": "6707171a-5b7f-4978-a65c-4a0461047f4c",
   "metadata": {},
   "source": [
    "#Hello World Lab\n",
    "\n",
    "This notebook is the first CCTR691 lab\n"
   ]
  },
  {
   "cell_type": "code",
   "execution_count": 2,
   "id": "3a7a21c6-6e91-4933-a70f-a9f565a2d5a9",
   "metadata": {
    "tags": []
   },
   "outputs": [
    {
     "name": "stdout",
     "output_type": "stream",
     "text": [
      "Hello World\n"
     ]
    }
   ],
   "source": [
    "print(\"Hello World\")"
   ]
  },
  {
   "cell_type": "code",
   "execution_count": null,
   "id": "c9a25141-4665-441b-bf1b-09cf7fafbb5d",
   "metadata": {},
   "outputs": [],
   "source": []
  }
 ],
 "metadata": {
  "kernelspec": {
   "display_name": "Python 3 (ipykernel)",
   "language": "python",
   "name": "python3"
  },
  "language_info": {
   "codemirror_mode": {
    "name": "ipython",
    "version": 3
   },
   "file_extension": ".py",
   "mimetype": "text/x-python",
   "name": "python",
   "nbconvert_exporter": "python",
   "pygments_lexer": "ipython3",
   "version": "3.11.5"
  }
 },
 "nbformat": 4,
 "nbformat_minor": 5
}
